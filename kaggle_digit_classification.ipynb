{
  "nbformat": 4,
  "nbformat_minor": 0,
  "metadata": {
    "colab": {
      "name": "kaggle_digit_classification.ipynb",
      "provenance": [],
      "toc_visible": true,
      "authorship_tag": "ABX9TyOfestfQ1Y4GxmidttHkgn/",
      "include_colab_link": true
    },
    "kernelspec": {
      "name": "python3",
      "display_name": "Python 3"
    },
    "accelerator": "GPU"
  },
  "cells": [
    {
      "cell_type": "markdown",
      "metadata": {
        "id": "view-in-github",
        "colab_type": "text"
      },
      "source": [
        "<a href=\"https://colab.research.google.com/github/carlotta-marchis/kaggle-digit-recognition/blob/master/kaggle_digit_classification.ipynb\" target=\"_parent\"><img src=\"https://colab.research.google.com/assets/colab-badge.svg\" alt=\"Open In Colab\"/></a>"
      ]
    },
    {
      "cell_type": "markdown",
      "metadata": {
        "id": "M7uUU01BYBzw",
        "colab_type": "text"
      },
      "source": [
        "# Classify handwritten digits\n",
        "---\n",
        "\n",
        "For this small project I will use the famous MNIST handwritten digit database. The aim is to train a machine learning model to be able to identify correctly the digits in the *train dataset* and make predictions for the digits in the *test dataset*."
      ]
    },
    {
      "cell_type": "code",
      "metadata": {
        "id": "pdEQzZxCYP4W",
        "colab_type": "code",
        "outputId": "8b7c832e-6a13-406a-e1e6-8e1e95b20f47",
        "colab": {
          "base_uri": "https://localhost:8080/",
          "height": 35
        }
      },
      "source": [
        "# TensorFlow and tf.keras\n",
        "import tensorflow as tf\n",
        "from tensorflow import keras\n",
        "\n",
        "# Helper libraries\n",
        "import numpy as np\n",
        "import pandas as pd\n",
        "import matplotlib.pyplot as plt\n",
        "import seaborn as sns; sns.set()\n",
        "\n",
        "print(tf.__version__)"
      ],
      "execution_count": 0,
      "outputs": [
        {
          "output_type": "stream",
          "text": [
            "2.2.0-rc1\n"
          ],
          "name": "stdout"
        }
      ]
    },
    {
      "cell_type": "markdown",
      "metadata": {
        "id": "AooQqzHygo8J",
        "colab_type": "text"
      },
      "source": [
        "## Importing the dataset from Kaggle\n",
        "\n",
        "Here I import the MNIST dataset from [Kaggle](https://www.kaggle.com/c/digit-recognizer/data), using the Kaggle API.\n",
        "\n",
        "Firsly, I install `kaggle`."
      ]
    },
    {
      "cell_type": "code",
      "metadata": {
        "id": "BlLXVlcXNQde",
        "colab_type": "code",
        "outputId": "bdcca35c-c4e5-4cf7-aea2-57f90243970d",
        "colab": {
          "base_uri": "https://localhost:8080/",
          "height": 231
        }
      },
      "source": [
        "!pip3 install kaggle --upgrade"
      ],
      "execution_count": 0,
      "outputs": [
        {
          "output_type": "stream",
          "text": [
            "Requirement already up-to-date: kaggle in /usr/local/lib/python3.6/dist-packages (1.5.6)\n",
            "Requirement already satisfied, skipping upgrade: python-dateutil in /usr/local/lib/python3.6/dist-packages (from kaggle) (2.8.1)\n",
            "Requirement already satisfied, skipping upgrade: urllib3<1.25,>=1.21.1 in /usr/local/lib/python3.6/dist-packages (from kaggle) (1.24.3)\n",
            "Requirement already satisfied, skipping upgrade: python-slugify in /usr/local/lib/python3.6/dist-packages (from kaggle) (4.0.0)\n",
            "Requirement already satisfied, skipping upgrade: certifi in /usr/local/lib/python3.6/dist-packages (from kaggle) (2019.11.28)\n",
            "Requirement already satisfied, skipping upgrade: six>=1.10 in /usr/local/lib/python3.6/dist-packages (from kaggle) (1.12.0)\n",
            "Requirement already satisfied, skipping upgrade: requests in /usr/local/lib/python3.6/dist-packages (from kaggle) (2.21.0)\n",
            "Requirement already satisfied, skipping upgrade: tqdm in /usr/local/lib/python3.6/dist-packages (from kaggle) (4.38.0)\n",
            "Requirement already satisfied, skipping upgrade: text-unidecode>=1.3 in /usr/local/lib/python3.6/dist-packages (from python-slugify->kaggle) (1.3)\n",
            "Requirement already satisfied, skipping upgrade: idna<2.9,>=2.5 in /usr/local/lib/python3.6/dist-packages (from requests->kaggle) (2.8)\n",
            "Requirement already satisfied, skipping upgrade: chardet<3.1.0,>=3.0.2 in /usr/local/lib/python3.6/dist-packages (from requests->kaggle) (3.0.4)\n"
          ],
          "name": "stdout"
        }
      ]
    },
    {
      "cell_type": "markdown",
      "metadata": {
        "id": "uStAbdnUSxh0",
        "colab_type": "text"
      },
      "source": [
        "Then I download the data directly to the content using the Kaggle API."
      ]
    },
    {
      "cell_type": "code",
      "metadata": {
        "id": "1UaS4QrDU_AI",
        "colab_type": "code",
        "outputId": "6d5081b3-4c6e-4afe-e0ea-8294e7a39d3e",
        "colab": {
          "base_uri": "https://localhost:8080/",
          "height": 107
        }
      },
      "source": [
        "import os\n",
        "os.environ['KAGGLE_USERNAME'] = \"carlotta90\" # username from the json file\n",
        "os.environ['KAGGLE_KEY'] = \"dfd6aaf2c8fc489f6c9103dca97120b2\" # key from the json file\n",
        "!kaggle competitions download -c digit-recognizer # api copied from kaggle"
      ],
      "execution_count": 0,
      "outputs": [
        {
          "output_type": "stream",
          "text": [
            "Warning: Looks like you're using an outdated API Version, please consider updating (server 1.5.6 / client 1.5.4)\n",
            "sample_submission.csv: Skipping, found more recently modified local copy (use --force to force download)\n",
            "test.csv.zip: Skipping, found more recently modified local copy (use --force to force download)\n",
            "train.csv.zip: Skipping, found more recently modified local copy (use --force to force download)\n"
          ],
          "name": "stdout"
        }
      ]
    },
    {
      "cell_type": "code",
      "metadata": {
        "id": "1y_b4A2XWJlf",
        "colab_type": "code",
        "outputId": "79cfdb45-6e87-4b71-cf82-b88ff1747628",
        "colab": {
          "base_uri": "https://localhost:8080/",
          "height": 175
        }
      },
      "source": [
        "!unzip \\*.zip"
      ],
      "execution_count": 0,
      "outputs": [
        {
          "output_type": "stream",
          "text": [
            "Archive:  test.csv.zip\n",
            "replace test.csv? [y]es, [n]o, [A]ll, [N]one, [r]ename: y\n",
            "  inflating: test.csv                \n",
            "\n",
            "Archive:  train.csv.zip\n",
            "replace train.csv? [y]es, [n]o, [A]ll, [N]one, [r]ename: y\n",
            "  inflating: train.csv               \n",
            "\n",
            "2 archives were successfully processed.\n"
          ],
          "name": "stdout"
        }
      ]
    },
    {
      "cell_type": "code",
      "metadata": {
        "id": "aLE5zAEF_F2H",
        "colab_type": "code",
        "outputId": "b4228bc3-9972-40c5-bd95-8c28b11fdbe2",
        "colab": {
          "base_uri": "https://localhost:8080/",
          "height": 70
        }
      },
      "source": [
        "!ls -a"
      ],
      "execution_count": 0,
      "outputs": [
        {
          "output_type": "stream",
          "text": [
            ".\t model.h5\t    sample_submission.csv  train.csv\n",
            "..\t my_submission.csv  test.csv\t\t   train.csv.zip\n",
            ".config  sample_data\t    test.csv.zip\n"
          ],
          "name": "stdout"
        }
      ]
    },
    {
      "cell_type": "markdown",
      "metadata": {
        "id": "BmnPRzAYWgfb",
        "colab_type": "text"
      },
      "source": [
        "The files `sample_submission.csv`, `test.csv` and `train.csv` are now in my content and ready to be imported and used."
      ]
    },
    {
      "cell_type": "code",
      "metadata": {
        "id": "EAzSziNuXclf",
        "colab_type": "code",
        "colab": {}
      },
      "source": [
        "train = pd.read_csv('train.csv')\n",
        "test = pd.read_csv('test.csv')\n",
        "sample = pd.read_csv('sample_submission.csv')"
      ],
      "execution_count": 0,
      "outputs": []
    },
    {
      "cell_type": "markdown",
      "metadata": {
        "id": "BkPxQBK8mebc",
        "colab_type": "text"
      },
      "source": [
        "## Exploring the data"
      ]
    },
    {
      "cell_type": "markdown",
      "metadata": {
        "id": "QVOQrrQqfNYb",
        "colab_type": "text"
      },
      "source": [
        "The following shows that the `train.csv` file contains 42,000 images each of which is represented by 784 pixels (28x28). Moreover, each image has an associated `label` denoting the handwritten digit, which ranges from 0 to 9. "
      ]
    },
    {
      "cell_type": "code",
      "metadata": {
        "id": "KYMwfsULZQD1",
        "colab_type": "code",
        "outputId": "36acf9e2-a058-4ff2-df1c-a002e91a8a0b",
        "colab": {
          "base_uri": "https://localhost:8080/",
          "height": 35
        }
      },
      "source": [
        "train.shape"
      ],
      "execution_count": 0,
      "outputs": [
        {
          "output_type": "execute_result",
          "data": {
            "text/plain": [
              "(42000, 785)"
            ]
          },
          "metadata": {
            "tags": []
          },
          "execution_count": 7
        }
      ]
    },
    {
      "cell_type": "code",
      "metadata": {
        "id": "AGWHv7__adsk",
        "colab_type": "code",
        "outputId": "7d0870e5-9367-4ed5-db93-a414b7f8d830",
        "colab": {
          "base_uri": "https://localhost:8080/",
          "height": 123
        }
      },
      "source": [
        "train.columns"
      ],
      "execution_count": 0,
      "outputs": [
        {
          "output_type": "execute_result",
          "data": {
            "text/plain": [
              "Index(['label', 'pixel0', 'pixel1', 'pixel2', 'pixel3', 'pixel4', 'pixel5',\n",
              "       'pixel6', 'pixel7', 'pixel8',\n",
              "       ...\n",
              "       'pixel774', 'pixel775', 'pixel776', 'pixel777', 'pixel778', 'pixel779',\n",
              "       'pixel780', 'pixel781', 'pixel782', 'pixel783'],\n",
              "      dtype='object', length=785)"
            ]
          },
          "metadata": {
            "tags": []
          },
          "execution_count": 8
        }
      ]
    },
    {
      "cell_type": "code",
      "metadata": {
        "id": "GomRX6aNgojY",
        "colab_type": "code",
        "outputId": "14a948d0-ff6b-45d4-cd0d-d4ce5dba7100",
        "colab": {
          "base_uri": "https://localhost:8080/",
          "height": 175
        }
      },
      "source": [
        "train.label.describe()"
      ],
      "execution_count": 0,
      "outputs": [
        {
          "output_type": "execute_result",
          "data": {
            "text/plain": [
              "count    42000.000000\n",
              "mean         4.456643\n",
              "std          2.887730\n",
              "min          0.000000\n",
              "25%          2.000000\n",
              "50%          4.000000\n",
              "75%          7.000000\n",
              "max          9.000000\n",
              "Name: label, dtype: float64"
            ]
          },
          "metadata": {
            "tags": []
          },
          "execution_count": 9
        }
      ]
    },
    {
      "cell_type": "markdown",
      "metadata": {
        "id": "BArtIikog4TX",
        "colab_type": "text"
      },
      "source": [
        "Likewise, what follows shows that the `test.csv` file contains 28,000 images each of which is represented by 784 pixels (28x28). In this case no label is given, as the pourpouse of the Kaggle competition is to predict the labels for the test datasubset."
      ]
    },
    {
      "cell_type": "code",
      "metadata": {
        "id": "uLOkSdwvd5DA",
        "colab_type": "code",
        "outputId": "aca2578c-9de2-446c-c14f-0ca78108bc13",
        "colab": {
          "base_uri": "https://localhost:8080/",
          "height": 35
        }
      },
      "source": [
        "test.shape"
      ],
      "execution_count": 0,
      "outputs": [
        {
          "output_type": "execute_result",
          "data": {
            "text/plain": [
              "(28000, 784)"
            ]
          },
          "metadata": {
            "tags": []
          },
          "execution_count": 10
        }
      ]
    },
    {
      "cell_type": "code",
      "metadata": {
        "id": "0WHkkFEVd9T7",
        "colab_type": "code",
        "outputId": "740687a4-5011-4a43-b993-5fd528e0e726",
        "colab": {
          "base_uri": "https://localhost:8080/",
          "height": 123
        }
      },
      "source": [
        "test.columns"
      ],
      "execution_count": 0,
      "outputs": [
        {
          "output_type": "execute_result",
          "data": {
            "text/plain": [
              "Index(['pixel0', 'pixel1', 'pixel2', 'pixel3', 'pixel4', 'pixel5', 'pixel6',\n",
              "       'pixel7', 'pixel8', 'pixel9',\n",
              "       ...\n",
              "       'pixel774', 'pixel775', 'pixel776', 'pixel777', 'pixel778', 'pixel779',\n",
              "       'pixel780', 'pixel781', 'pixel782', 'pixel783'],\n",
              "      dtype='object', length=784)"
            ]
          },
          "metadata": {
            "tags": []
          },
          "execution_count": 11
        }
      ]
    },
    {
      "cell_type": "markdown",
      "metadata": {
        "id": "OUhWtvUGjLs0",
        "colab_type": "text"
      },
      "source": [
        "## Features matrix and target array \n",
        "\n",
        "I now define the features matrix and target array, and then split them into a **training set** and a **test set** in order to be able to evaluate the accuracy of the trained model before making predections."
      ]
    },
    {
      "cell_type": "code",
      "metadata": {
        "id": "XfzGjo77lsLk",
        "colab_type": "code",
        "colab": {}
      },
      "source": [
        "X = np.array(train.drop('label', axis=1))\n",
        "y = np.array(train['label'])\n",
        "\n",
        "from sklearn.model_selection import train_test_split\n",
        "\n",
        "X_train, X_test, y_train, y_test = train_test_split(X, y)"
      ],
      "execution_count": 0,
      "outputs": []
    },
    {
      "cell_type": "markdown",
      "metadata": {
        "id": "An-QNv5Ag8MD",
        "colab_type": "text"
      },
      "source": [
        "The following figure shows the first 25 images of the training set:"
      ]
    },
    {
      "cell_type": "code",
      "metadata": {
        "id": "0vWRdNJwdH46",
        "colab_type": "code",
        "outputId": "57396c37-c91c-45ac-f2ba-a33c68f2db36",
        "colab": {
          "base_uri": "https://localhost:8080/",
          "height": 307
        }
      },
      "source": [
        "# Define images by reshaping the one-dimensional arrays (784 pixels) into a \n",
        "# two-dimensional arrays (28x28 pixels) \n",
        "train_images = np.reshape(X_train, (len(X_train),28,28))\n",
        "test_images = np.reshape(X_test, (len(X_test),28,28))\n",
        "\n",
        "# Plot the first 25 train images\n",
        "plt.figure(figsize=(5,5))\n",
        "for i in range(25):\n",
        "  plt.subplot(5, 5, i+1)\n",
        "  plt.imshow(train_images[i], cmap='binary')\n",
        "  plt.text(0,28, y_train[i], color='green')\n",
        "  plt.xticks([])\n",
        "  plt.yticks([])\n",
        "plt.show()"
      ],
      "execution_count": 0,
      "outputs": [
        {
          "output_type": "display_data",
          "data": {
            "image/png": "[encoded data removed]",
            "text/plain": [
              "<Figure size 360x360 with 25 Axes>"
            ]
          },
          "metadata": {
            "tags": []
          }
        }
      ]
    },
    {
      "cell_type": "markdown",
      "metadata": {
        "id": "cdlHIiGGqrKu",
        "colab_type": "text"
      },
      "source": [
        "Finally, to avoid confusion of notation I rename the dataset that will be used to make prediction as `to_predict`."
      ]
    },
    {
      "cell_type": "code",
      "metadata": {
        "id": "u2PFxaBSqlm2",
        "colab_type": "code",
        "colab": {}
      },
      "source": [
        "to_predict = np.array(test)\n",
        "images_to_predict = np.reshape(to_predict, (len(to_predict),28,28))"
      ],
      "execution_count": 0,
      "outputs": []
    },
    {
      "cell_type": "markdown",
      "metadata": {
        "id": "koILrob-o7g4",
        "colab_type": "text"
      },
      "source": [
        "## Preprocessing the data "
      ]
    },
    {
      "cell_type": "markdown",
      "metadata": {
        "id": "p3H8P9R6HYpb",
        "colab_type": "text"
      },
      "source": [
        "To be able to feed the `X_train`, `X_test` and `to_predict` arrays to a neural network model they need to be preprocessed, in fact: "
      ]
    },
    {
      "cell_type": "code",
      "metadata": {
        "id": "iTdfPcTRnz2t",
        "colab_type": "code",
        "outputId": "ef7f22c8-e012-44a5-b79e-1867e7f94f04",
        "colab": {
          "base_uri": "https://localhost:8080/",
          "height": 35
        }
      },
      "source": [
        "print('Each image pixel has a value between 0 and ' + str(X_train.max()) + ' inclusive:')"
      ],
      "execution_count": 0,
      "outputs": [
        {
          "output_type": "stream",
          "text": [
            "Each image pixel has a value between 0 and 255 inclusive:\n"
          ],
          "name": "stdout"
        }
      ]
    },
    {
      "cell_type": "code",
      "metadata": {
        "id": "rMgetbejpp2o",
        "colab_type": "code",
        "outputId": "1c6a7462-334b-410f-f685-5e46c4fc4631",
        "colab": {
          "base_uri": "https://localhost:8080/",
          "height": 254
        }
      },
      "source": [
        "plt.figure()\n",
        "plt.imshow(train_images[0])\n",
        "plt.xticks([])\n",
        "plt.yticks([])\n",
        "plt.colorbar()\n",
        "plt.show()"
      ],
      "execution_count": 0,
      "outputs": [
        {
          "output_type": "display_data",
          "data": {
            "image/png": "[encoded data removed]",
            "text/plain": [
              "<Figure size 432x288 with 2 Axes>"
            ]
          },
          "metadata": {
            "tags": []
          }
        }
      ]
    },
    {
      "cell_type": "markdown",
      "metadata": {
        "id": "1SdFs9eEpXc0",
        "colab_type": "text"
      },
      "source": [
        "It is therefore necessary to rescale them to a range of 0 and 1:"
      ]
    },
    {
      "cell_type": "code",
      "metadata": {
        "id": "AziHsYvRpPjo",
        "colab_type": "code",
        "colab": {}
      },
      "source": [
        "X_train = X_train / 255.0\n",
        "X_test = X_test / 255.0\n",
        "to_predict = to_predict / 255.0"
      ],
      "execution_count": 0,
      "outputs": []
    },
    {
      "cell_type": "markdown",
      "metadata": {
        "id": "zbQQesTxqvjd",
        "colab_type": "text"
      },
      "source": [
        "## Builing the model\n",
        "\n",
        "Building the model requires:\n",
        "- **configuring** the layers of the model, \n",
        "- **compiling** the model"
      ]
    },
    {
      "cell_type": "markdown",
      "metadata": {
        "id": "eS5JWMmErJKL",
        "colab_type": "text"
      },
      "source": [
        "### Configuring the layers\n",
        "\n",
        "I will start by configuring a tiny model with 2 intermediate, fully connected layers of 16 nodes, and a final layer of 10 nodes, one for each class:"
      ]
    },
    {
      "cell_type": "code",
      "metadata": {
        "id": "E0w3GSIeqlAZ",
        "colab_type": "code",
        "colab": {}
      },
      "source": [
        "tiny_model = keras.Sequential([\n",
        "        keras.layers.Dense(16, activation='relu', input_shape=(784,)),\n",
        "        keras.layers.Dense(16, activation='relu'),\n",
        "        keras.layers.Dense(10, activation='softmax')\n",
        "                          ])"
      ],
      "execution_count": 0,
      "outputs": []
    },
    {
      "cell_type": "markdown",
      "metadata": {
        "id": "Sq3o6YjpsjZi",
        "colab_type": "text"
      },
      "source": [
        "The first layer in this network, `tf.keras.layers.Dense(16, input_shape=(784,), activation='relu')` takes as input arrays of shape (, 784) (the 0th layer) and output arrays of shape (, 16) (the 1st layer).\n",
        "\n",
        "Then the network consists of two additional **fully connected** neural layers. The first one has 16 nodes (or neurons). The second one is an array of lenght 10. The Softmax function squashes the vector in the range (0, 1), such that the sum of the resulting elements is 1. As each element represents a class, they can be interpreted as class probabilities."
      ]
    },
    {
      "cell_type": "markdown",
      "metadata": {
        "id": "zaZUctIntI6E",
        "colab_type": "text"
      },
      "source": [
        "### Compiling the model"
      ]
    },
    {
      "cell_type": "markdown",
      "metadata": {
        "id": "ZStgFFTdtOvI",
        "colab_type": "text"
      },
      "source": [
        "Before training the model we need to compile it by setting three key parameters:\n",
        "- The **optimizer**. I will use the default Adam gradient-based optimizer. \n",
        "- The **loss function**. I will use [`SparseCategoricalCrossentropy`](https://www.tensorflow.org/api_docs/python/tf/keras/losses/SparseCategoricalCrossentropy) as the data have more than two integer valued label classes (0 to 9). (*Note: Keras distinguishes between `binary_crossentropy` for 2 classes and `categorical_crossentropy` for more than 2 classes*).\n",
        "- A list of **metrics**. Since this is a classification problem, we’ll just have Keras report on the accuracy metric."
      ]
    },
    {
      "cell_type": "code",
      "metadata": {
        "id": "Lv12C4W7tN4P",
        "colab_type": "code",
        "colab": {}
      },
      "source": [
        "tiny_model.compile(optimizer='adam',\n",
        "              loss=tf.keras.losses.SparseCategoricalCrossentropy(),\n",
        "              metrics=['accuracy'])"
      ],
      "execution_count": 0,
      "outputs": []
    },
    {
      "cell_type": "markdown",
      "metadata": {
        "id": "BV25zB5MtcN8",
        "colab_type": "text"
      },
      "source": [
        "## Training the model\n",
        "\n",
        "Training the model consists in calling the `model.fit` function and specifying some parameters as:\n",
        "\n",
        "- The **training data**, which are the images and labels stored in the `X_train` and `y_train` arrays respectively.\n",
        "- The **number of epochs** (iterations over the entire dataset) to train for.\n",
        "- The **batch size** (number of samples per gradient update) to use when training.\n",
        "\n",
        "Here is a useful [link](https://machinelearningmastery.com/difference-between-a-batch-and-an-epoch/) to better understand the meaning of batch size and epochs."
      ]
    },
    {
      "cell_type": "code",
      "metadata": {
        "id": "npkzGTAYtd16",
        "colab_type": "code",
        "outputId": "47a6e398-d5c6-4ebd-c043-ddc5d9de007b",
        "colab": {
          "base_uri": "https://localhost:8080/",
          "height": 211
        }
      },
      "source": [
        "tiny_model.fit(X_train, y_train, epochs=5, batch_size=32)"
      ],
      "execution_count": 0,
      "outputs": [
        {
          "output_type": "stream",
          "text": [
            "Epoch 1/5\n",
            "985/985 [==============================] - 2s 2ms/step - loss: 0.6365 - accuracy: 0.8166\n",
            "Epoch 2/5\n",
            "985/985 [==============================] - 2s 2ms/step - loss: 0.2894 - accuracy: 0.9168\n",
            "Epoch 3/5\n",
            "985/985 [==============================] - 2s 2ms/step - loss: 0.2455 - accuracy: 0.9288\n",
            "Epoch 4/5\n",
            "985/985 [==============================] - 2s 2ms/step - loss: 0.2211 - accuracy: 0.9355\n",
            "Epoch 5/5\n",
            "985/985 [==============================] - 2s 2ms/step - loss: 0.2020 - accuracy: 0.9409\n"
          ],
          "name": "stdout"
        },
        {
          "output_type": "execute_result",
          "data": {
            "text/plain": [
              "<tensorflow.python.keras.callbacks.History at 0x7fca28a57a90>"
            ]
          },
          "metadata": {
            "tags": []
          },
          "execution_count": 20
        }
      ]
    },
    {
      "cell_type": "markdown",
      "metadata": {
        "id": "JceCo6msuXOZ",
        "colab_type": "text"
      },
      "source": [
        "As the model trains, the loss and accuracy metrics are displayed. This model reaches an accuracy of about 0.94 (or 94%) on the training data."
      ]
    },
    {
      "cell_type": "markdown",
      "metadata": {
        "id": "hlADtCsuug5o",
        "colab_type": "text"
      },
      "source": [
        "### Evaluating accuracy"
      ]
    },
    {
      "cell_type": "code",
      "metadata": {
        "id": "sctR0ZCTuONC",
        "colab_type": "code",
        "outputId": "bfc18411-4b24-4816-f423-90e5f1b31a01",
        "colab": {
          "base_uri": "https://localhost:8080/",
          "height": 70
        }
      },
      "source": [
        "test_loss, test_acc = tiny_model.evaluate(X_test,  y_test, verbose=2)\n",
        "\n",
        "print('\\nTest accuracy:', test_acc)"
      ],
      "execution_count": 0,
      "outputs": [
        {
          "output_type": "stream",
          "text": [
            "329/329 - 0s - loss: 0.2284 - accuracy: 0.9332\n",
            "\n",
            "Test accuracy: 0.9332380890846252\n"
          ],
          "name": "stdout"
        }
      ]
    },
    {
      "cell_type": "markdown",
      "metadata": {
        "id": "w0noDiIIvO8H",
        "colab_type": "text"
      },
      "source": [
        "It turns out that the accuracy on the test dataset is a little less than the accuracy on the training dataset. This gap between training accuracy and test accuracy represents **overfitting**. One of the most common way to reduce overfitting is to add **Dropout** layers in the network ([source](https://www.tensorflow.org/tutorials/keras/overfit_and_underfit#demonstrate_overfitting))."
      ]
    },
    {
      "cell_type": "markdown",
      "metadata": {
        "id": "7ndP5uOqgalx",
        "colab_type": "text"
      },
      "source": [
        "## Making predictions\n",
        "\n",
        "The model can now be used to make predictions by calling the `predict` method:"
      ]
    },
    {
      "cell_type": "code",
      "metadata": {
        "id": "Qi_HSz9zg2Jp",
        "colab_type": "code",
        "colab": {}
      },
      "source": [
        "predictions = tiny_model.predict(X_test)"
      ],
      "execution_count": 0,
      "outputs": []
    },
    {
      "cell_type": "code",
      "metadata": {
        "id": "g1EGtnpuhIHg",
        "colab_type": "code",
        "outputId": "a3a012f9-ae96-4bbc-8fc5-6a0b9f7efc32",
        "colab": {
          "base_uri": "https://localhost:8080/",
          "height": 35
        }
      },
      "source": [
        "predictions.shape"
      ],
      "execution_count": 0,
      "outputs": [
        {
          "output_type": "execute_result",
          "data": {
            "text/plain": [
              "(10500, 10)"
            ]
          },
          "metadata": {
            "tags": []
          },
          "execution_count": 23
        }
      ]
    },
    {
      "cell_type": "markdown",
      "metadata": {
        "id": "I8SUR414hU73",
        "colab_type": "text"
      },
      "source": [
        "`predictions` consists of 10,050 arrays of 10 numbers, representing the probabilities for each of the 10,500 sample of belonging to one of the 10 classes (the digits between 0 and 9)."
      ]
    },
    {
      "cell_type": "code",
      "metadata": {
        "id": "qX7Zn3pMhMfl",
        "colab_type": "code",
        "outputId": "ba6275c8-c2e4-4217-c161-a26d4549b7eb",
        "colab": {
          "base_uri": "https://localhost:8080/",
          "height": 70
        }
      },
      "source": [
        "predictions[0]"
      ],
      "execution_count": 0,
      "outputs": [
        {
          "output_type": "execute_result",
          "data": {
            "text/plain": [
              "array([2.6539570e-07, 1.4940365e-08, 9.9985516e-01, 1.4306535e-04,\n",
              "       2.0128600e-11, 1.4523421e-06, 3.0513516e-09, 3.5947348e-08,\n",
              "       3.0523314e-08, 1.9438132e-12], dtype=float32)"
            ]
          },
          "metadata": {
            "tags": []
          },
          "execution_count": 24
        }
      ]
    },
    {
      "cell_type": "markdown",
      "metadata": {
        "id": "Ipca1pYGz5lA",
        "colab_type": "text"
      },
      "source": [
        "### Verifying predictions\n",
        "\n",
        "Before trying to improve the performance of the model by changing the neural network structure, it can be interesting to check where and when this initial tiny model fails.\n",
        "\n",
        "These two functions will help us visualize the result of the prediction."
      ]
    },
    {
      "cell_type": "code",
      "metadata": {
        "id": "0LguDxOk2DVu",
        "colab_type": "code",
        "colab": {}
      },
      "source": [
        "def plot_image(i, prediction_arrays, true_labels, imgages):\n",
        "  predicted_label, true_label, imgage = np.argmax(prediction_arrays[i]), true_labels[i], imgages[i]\n",
        "  \n",
        "  plt.grid(False)\n",
        "  plt.imshow(imgage, cmap='binary')\n",
        "  plt.xticks([])\n",
        "  plt.yticks([])\n",
        "\n",
        "  plt.text(0,28, predicted_label, color='blue' if predicted_label == true_label else 'red')\n",
        "  \n",
        "\n",
        "def plot_labels(i, prediction_arrays, true_labels):\n",
        "  predicted_label, true_label = np.argmax(prediction_arrays[i]), true_labels[i]\n",
        "  \n",
        "  plt.grid(False)\n",
        "  thisplot = plt.bar(range(10), prediction_arrays[i], color=\"#777777\")\n",
        "  plt.xticks(range(0,10))\n",
        "  plt.yticks([])\n",
        "  plt.ylim([0, 1])\n",
        "  \n",
        "  thisplot[predicted_label].set_color('red')\n",
        "  thisplot[true_label].set_color('blue')"
      ],
      "execution_count": 0,
      "outputs": []
    },
    {
      "cell_type": "markdown",
      "metadata": {
        "id": "al2CCrjH63XF",
        "colab_type": "text"
      },
      "source": [
        "Now, let's look at the 0th image. Correct prediction labels are blue and incorrect prediction labels are red."
      ]
    },
    {
      "cell_type": "code",
      "metadata": {
        "id": "VkSoO-LW0jY0",
        "colab_type": "code",
        "outputId": "a9453774-bfbf-4f26-9363-4e0b64741fc9",
        "colab": {
          "base_uri": "https://localhost:8080/",
          "height": 255
        }
      },
      "source": [
        "plot_image(0, predictions, y_test, test_images)"
      ],
      "execution_count": 0,
      "outputs": [
        {
          "output_type": "display_data",
          "data": {
            "image/png": "[encoded data removed]",
            "text/plain": [
              "<Figure size 432x288 with 1 Axes>"
            ]
          },
          "metadata": {
            "tags": []
          }
        }
      ]
    },
    {
      "cell_type": "markdown",
      "metadata": {
        "id": "I--BDxKS69-S",
        "colab_type": "text"
      },
      "source": [
        "The figure shows that tiny model correctly predicted the class of the first image.\n",
        "\n",
        "Let's look at the first 15 predictions:"
      ]
    },
    {
      "cell_type": "code",
      "metadata": {
        "id": "fDAppeXc6jDW",
        "colab_type": "code",
        "outputId": "956aee3d-1ca3-46e1-a4bb-53da1240112a",
        "colab": {
          "base_uri": "https://localhost:8080/",
          "height": 669
        }
      },
      "source": [
        "# Plot the first n_row*n_cols test images and the labels probabilities\n",
        "n_rows = 5\n",
        "n_cols = 3\n",
        "n_images = n_rows*n_cols\n",
        "\n",
        "plt.figure(figsize=(2*2*n_cols,2*n_rows))\n",
        "for i in range(n_images):\n",
        "  plt.subplot(n_rows, 2*n_cols, 2*i+1)\n",
        "  plot_image(i, predictions, y_test, test_images)\n",
        "  plt.subplot(n_rows, 2*n_cols, 2*i+2)\n",
        "  plot_labels(i, predictions, y_test)\n",
        "plt.tight_layout()\n",
        "plt.show()"
      ],
      "execution_count": 0,
      "outputs": [
        {
          "output_type": "display_data",
          "data": {
            "image/png": "[encoded data removed]",
            "text/plain": [
              "<Figure size 864x720 with 30 Axes>"
            ]
          },
          "metadata": {
            "tags": []
          }
        }
      ]
    },
    {
      "cell_type": "markdown",
      "metadata": {
        "id": "3_wXz4XGi9Of",
        "colab_type": "text"
      },
      "source": [
        "The model correctly identifies all the 15 images.\n",
        "\n",
        "Finally, let's look at the first 15 images the model incorrectly predicts:"
      ]
    },
    {
      "cell_type": "code",
      "metadata": {
        "id": "HPAgrpPH9heJ",
        "colab_type": "code",
        "outputId": "47833a24-f8e9-40ad-8360-8536b635b41d",
        "colab": {
          "base_uri": "https://localhost:8080/",
          "height": 669
        }
      },
      "source": [
        "predicted_labels = []\n",
        "\n",
        "for i in range(len(predictions)):\n",
        "  predicted_labels.append(np.argmax(predictions[i]))\n",
        "\n",
        "select_incorrect = ~(predicted_labels == y_test)\n",
        "\n",
        "incorrect_predictions = predictions[select_incorrect]\n",
        "incorrect_images = test_images[select_incorrect]\n",
        "incorrect_labels = y_test[select_incorrect]\n",
        "\n",
        "# Plot the first n_row*n_cols test images and the labels probabilities\n",
        "n_rows = 5\n",
        "n_cols = 3\n",
        "n_images = n_rows*n_cols\n",
        "\n",
        "plt.figure(figsize=(2*2*n_cols,2*n_rows))\n",
        "for i in range(n_images):\n",
        "  plt.subplot(n_rows, 2*n_cols, 2*i+1)\n",
        "  plot_image(i, incorrect_predictions, incorrect_labels, incorrect_images)\n",
        "  plt.subplot(n_rows, 2*n_cols, 2*i+2)\n",
        "  plot_labels(i, incorrect_predictions, incorrect_labels)\n",
        "plt.tight_layout()\n",
        "plt.show()"
      ],
      "execution_count": 0,
      "outputs": [
        {
          "output_type": "display_data",
          "data": {
            "image/png": "[encoded data removed]",
            "text/plain": [
              "<Figure size 864x720 with 30 Axes>"
            ]
          },
          "metadata": {
            "tags": []
          }
        }
      ]
    },
    {
      "cell_type": "markdown",
      "metadata": {
        "id": "q0BmwdHilY6z",
        "colab_type": "text"
      },
      "source": [
        "From this figure it is possible to see that more often then not, when the model makes an incorrect prediction, the higher probability is not as close to one as for when the model correctly predicts the label of the handwritten digit (compare with the previous figure). It will be interesting to see how and if this changes when changin the model structure."
      ]
    },
    {
      "cell_type": "markdown",
      "metadata": {
        "id": "Wiwkn2JjvdHI",
        "colab_type": "text"
      },
      "source": [
        "## Changing the neural network structure\n",
        "\n",
        "I will now configure compile and train a network with a different structure. More specifically I will make the following changes:\n",
        "\n",
        "- increase the **network depth** by adding a new layer\n",
        "- change the **number of nodes** in the hidden layers \n",
        "- add **Dropout** layers\n",
        "- change the **batch size** and **number of epochs**\n",
        "- use the testing subset for **validation** during training  \n",
        "  *(Note: Keras will evaluate the model on the validation set at the end of each epoch and report the loss and any metrics. This allows one to monitor the model’s progress over time during training, useful to identify overfitting and support early stopping.)*\n"
      ]
    },
    {
      "cell_type": "code",
      "metadata": {
        "id": "vRSUBVibmyA6",
        "colab_type": "code",
        "outputId": "0f5c54ae-4f37-4749-d342-855cab39b5f6",
        "colab": {
          "base_uri": "https://localhost:8080/",
          "height": 407
        }
      },
      "source": [
        "# Building the model\n",
        "model = keras.Sequential([\n",
        "        keras.layers.Dense(392, activation='relu', input_shape=(784,)),\n",
        "        keras.layers.Dropout(0.5),\n",
        "        keras.layers.Dense(196, activation='relu'),\n",
        "        keras.layers.Dropout(0.5),\n",
        "        keras.layers.Dense(98, activation='relu'),\n",
        "        keras.layers.Dropout(0.5),\n",
        "        keras.layers.Dense(10, activation='softmax')\n",
        "                          ])\n",
        "\n",
        "# Compiling the model\n",
        "model.compile(optimizer='adam',\n",
        "              loss=tf.keras.losses.SparseCategoricalCrossentropy(),\n",
        "              metrics=['accuracy'])\n",
        "\n",
        "# Training the model\n",
        "model.fit(X_train, y_train, epochs=10, batch_size=64, \n",
        "          validation_data=(X_test, y_test))"
      ],
      "execution_count": 0,
      "outputs": [
        {
          "output_type": "stream",
          "text": [
            "Epoch 1/10\n",
            "493/493 [==============================] - 1s 3ms/step - loss: 0.7533 - accuracy: 0.7579 - val_loss: 0.2172 - val_accuracy: 0.9378\n",
            "Epoch 2/10\n",
            "493/493 [==============================] - 1s 3ms/step - loss: 0.3179 - accuracy: 0.9125 - val_loss: 0.1697 - val_accuracy: 0.9524\n",
            "Epoch 3/10\n",
            "493/493 [==============================] - 1s 3ms/step - loss: 0.2470 - accuracy: 0.9335 - val_loss: 0.1480 - val_accuracy: 0.9568\n",
            "Epoch 4/10\n",
            "493/493 [==============================] - 1s 3ms/step - loss: 0.2055 - accuracy: 0.9433 - val_loss: 0.1364 - val_accuracy: 0.9615\n",
            "Epoch 5/10\n",
            "493/493 [==============================] - 1s 3ms/step - loss: 0.1839 - accuracy: 0.9495 - val_loss: 0.1233 - val_accuracy: 0.9660\n",
            "Epoch 6/10\n",
            "493/493 [==============================] - 1s 3ms/step - loss: 0.1637 - accuracy: 0.9555 - val_loss: 0.1201 - val_accuracy: 0.9681\n",
            "Epoch 7/10\n",
            "493/493 [==============================] - 1s 3ms/step - loss: 0.1471 - accuracy: 0.9591 - val_loss: 0.1108 - val_accuracy: 0.9680\n",
            "Epoch 8/10\n",
            "493/493 [==============================] - 1s 3ms/step - loss: 0.1399 - accuracy: 0.9613 - val_loss: 0.1088 - val_accuracy: 0.9697\n",
            "Epoch 9/10\n",
            "493/493 [==============================] - 1s 3ms/step - loss: 0.1301 - accuracy: 0.9635 - val_loss: 0.1094 - val_accuracy: 0.9697\n",
            "Epoch 10/10\n",
            "493/493 [==============================] - 1s 3ms/step - loss: 0.1252 - accuracy: 0.9662 - val_loss: 0.1012 - val_accuracy: 0.9734\n"
          ],
          "name": "stdout"
        },
        {
          "output_type": "execute_result",
          "data": {
            "text/plain": [
              "<tensorflow.python.keras.callbacks.History at 0x7fc9e8244ba8>"
            ]
          },
          "metadata": {
            "tags": []
          },
          "execution_count": 29
        }
      ]
    },
    {
      "cell_type": "markdown",
      "metadata": {
        "id": "buafqIUtsR1t",
        "colab_type": "text"
      },
      "source": [
        "This model reaches an accuracy of about 0.96 (or 96%) on the training data and of 0.97 on the test datasubset. Overfitting was successfully avoided."
      ]
    },
    {
      "cell_type": "markdown",
      "metadata": {
        "id": "HCoh2GW4f1nr",
        "colab_type": "text"
      },
      "source": [
        "## Using the model"
      ]
    },
    {
      "cell_type": "markdown",
      "metadata": {
        "id": "F2YakXa-s5rE",
        "colab_type": "text"
      },
      "source": [
        "In order to be able to load the model back up anytime I will save it to disk"
      ]
    },
    {
      "cell_type": "code",
      "metadata": {
        "id": "wo0YP1-vtIA5",
        "colab_type": "code",
        "colab": {}
      },
      "source": [
        "model.save_weights('model.h5')"
      ],
      "execution_count": 0,
      "outputs": []
    },
    {
      "cell_type": "markdown",
      "metadata": {
        "id": "WEmcOiUutKDP",
        "colab_type": "text"
      },
      "source": [
        "It is then possible to reload the trained model by rebuilding it and loading in the saved weights:"
      ]
    },
    {
      "cell_type": "code",
      "metadata": {
        "id": "kBGf-jKEtdWf",
        "colab_type": "code",
        "colab": {}
      },
      "source": [
        "# Building the model\n",
        "model = keras.Sequential([\n",
        "        keras.layers.Dense(392, activation='relu', input_shape=(784,)),\n",
        "        keras.layers.Dropout(0.5),\n",
        "        keras.layers.Dense(196, activation='relu'),\n",
        "        keras.layers.Dropout(0.5),\n",
        "        keras.layers.Dense(98, activation='relu'),\n",
        "        keras.layers.Dropout(0.5),\n",
        "        keras.layers.Dense(10, activation='softmax')\n",
        "                          ])\n",
        "\n",
        "# Load the model's saved weights\n",
        "model.load_weights('model.h5')"
      ],
      "execution_count": 0,
      "outputs": []
    },
    {
      "cell_type": "markdown",
      "metadata": {
        "id": "2m8UsDnGtm7N",
        "colab_type": "text"
      },
      "source": [
        "Now, the trained model can be used to make predictions by passing the `to_predict` array of inputs to `predict()`. This will return an array of outputs of 10 probabilities for each of the 28,000 images the model predicted, as shown below.\n"
      ]
    },
    {
      "cell_type": "code",
      "metadata": {
        "id": "2a9BMxOfvw6W",
        "colab_type": "code",
        "colab": {}
      },
      "source": [
        "my_labels_prob = model.predict(to_predict)"
      ],
      "execution_count": 0,
      "outputs": []
    },
    {
      "cell_type": "code",
      "metadata": {
        "id": "PqFCOTV-zaJX",
        "colab_type": "code",
        "outputId": "ded712ea-1fa3-46a3-aeb1-94a2be25ddcc",
        "colab": {
          "base_uri": "https://localhost:8080/",
          "height": 35
        }
      },
      "source": [
        "my_labels_prob.shape"
      ],
      "execution_count": 0,
      "outputs": [
        {
          "output_type": "execute_result",
          "data": {
            "text/plain": [
              "(28000, 10)"
            ]
          },
          "metadata": {
            "tags": []
          },
          "execution_count": 33
        }
      ]
    },
    {
      "cell_type": "code",
      "metadata": {
        "id": "XnbszY7-uxKi",
        "colab_type": "code",
        "outputId": "febb885b-4f92-414f-a1bb-ff5a96eee947",
        "colab": {
          "base_uri": "https://localhost:8080/",
          "height": 70
        }
      },
      "source": [
        "my_labels_prob[0]"
      ],
      "execution_count": 0,
      "outputs": [
        {
          "output_type": "execute_result",
          "data": {
            "text/plain": [
              "array([2.25755097e-13, 2.87838026e-12, 1.00000000e+00, 1.09610845e-08,\n",
              "       1.75131611e-15, 6.12302965e-16, 4.98670895e-17, 2.69131917e-09,\n",
              "       4.61150649e-12, 2.47948030e-18], dtype=float32)"
            ]
          },
          "metadata": {
            "tags": []
          },
          "execution_count": 34
        }
      ]
    },
    {
      "cell_type": "markdown",
      "metadata": {
        "id": "ER4UW1AgvWPE",
        "colab_type": "text"
      },
      "source": [
        "## Submitting the predictions\n",
        "\n",
        "The last step consists in creating a csv file with the right format for the submission to the Kaggle competition.\n",
        "\n",
        "Let's look at the `sample_submission.csv` file provided by Kaggle:"
      ]
    },
    {
      "cell_type": "code",
      "metadata": {
        "id": "f2f4SPfTvupC",
        "colab_type": "code",
        "outputId": "032ff04b-174c-4e8c-eb32-83b52bee8a0a",
        "colab": {
          "base_uri": "https://localhost:8080/",
          "height": 203
        }
      },
      "source": [
        "sample.head()"
      ],
      "execution_count": 0,
      "outputs": [
        {
          "output_type": "execute_result",
          "data": {
            "text/html": [
              "<div>\n",
              "<style scoped>\n",
              "    .dataframe tbody tr th:only-of-type {\n",
              "        vertical-align: middle;\n",
              "    }\n",
              "\n",
              "    .dataframe tbody tr th {\n",
              "        vertical-align: top;\n",
              "    }\n",
              "\n",
              "    .dataframe thead th {\n",
              "        text-align: right;\n",
              "    }\n",
              "</style>\n",
              "<table border=\"1\" class=\"dataframe\">\n",
              "  <thead>\n",
              "    <tr style=\"text-align: right;\">\n",
              "      <th></th>\n",
              "      <th>ImageId</th>\n",
              "      <th>Label</th>\n",
              "    </tr>\n",
              "  </thead>\n",
              "  <tbody>\n",
              "    <tr>\n",
              "      <th>0</th>\n",
              "      <td>1</td>\n",
              "      <td>0</td>\n",
              "    </tr>\n",
              "    <tr>\n",
              "      <th>1</th>\n",
              "      <td>2</td>\n",
              "      <td>0</td>\n",
              "    </tr>\n",
              "    <tr>\n",
              "      <th>2</th>\n",
              "      <td>3</td>\n",
              "      <td>0</td>\n",
              "    </tr>\n",
              "    <tr>\n",
              "      <th>3</th>\n",
              "      <td>4</td>\n",
              "      <td>0</td>\n",
              "    </tr>\n",
              "    <tr>\n",
              "      <th>4</th>\n",
              "      <td>5</td>\n",
              "      <td>0</td>\n",
              "    </tr>\n",
              "  </tbody>\n",
              "</table>\n",
              "</div>"
            ],
            "text/plain": [
              "   ImageId  Label\n",
              "0        1      0\n",
              "1        2      0\n",
              "2        3      0\n",
              "3        4      0\n",
              "4        5      0"
            ]
          },
          "metadata": {
            "tags": []
          },
          "execution_count": 35
        }
      ]
    },
    {
      "cell_type": "code",
      "metadata": {
        "id": "-SA7MyYzwiE_",
        "colab_type": "code",
        "outputId": "6fcdfd55-9134-40e1-93c9-351f1d40f631",
        "colab": {
          "base_uri": "https://localhost:8080/",
          "height": 35
        }
      },
      "source": [
        "len(sample)"
      ],
      "execution_count": 0,
      "outputs": [
        {
          "output_type": "execute_result",
          "data": {
            "text/plain": [
              "28000"
            ]
          },
          "metadata": {
            "tags": []
          },
          "execution_count": 36
        }
      ]
    },
    {
      "cell_type": "markdown",
      "metadata": {
        "id": "vqpSKcCMwKji",
        "colab_type": "text"
      },
      "source": [
        "Hence, the sample submission consists in a DataFrame with two columns called `ImageId` and `Label`.\n",
        "- The `ImageId` is the index incremented by 1.\n",
        "- The `Label` is the predicted label for each image that can be calculated using the `np.argmax`"
      ]
    },
    {
      "cell_type": "code",
      "metadata": {
        "id": "9JnP6l77ywbh",
        "colab_type": "code",
        "colab": {}
      },
      "source": [
        "my_labels = []\n",
        "for i in range(len(my_labels_prob)):\n",
        "  my_labels.append(np.argmax(my_labels_prob[i]))"
      ],
      "execution_count": 0,
      "outputs": []
    },
    {
      "cell_type": "code",
      "metadata": {
        "id": "9ck8RR3fwKSE",
        "colab_type": "code",
        "colab": {}
      },
      "source": [
        "my_submission = pd.concat([pd.DataFrame([i+1 for i in range(28000)], columns=['ImageId']), \n",
        "                           pd.DataFrame(my_labels, columns=['Label'])], axis=1)"
      ],
      "execution_count": 0,
      "outputs": []
    },
    {
      "cell_type": "code",
      "metadata": {
        "id": "qpK3hraIyahc",
        "colab_type": "code",
        "outputId": "1c8e056d-1548-4979-a262-b4ee2e90fde0",
        "colab": {
          "base_uri": "https://localhost:8080/",
          "height": 203
        }
      },
      "source": [
        "my_submission.head()"
      ],
      "execution_count": 0,
      "outputs": [
        {
          "output_type": "execute_result",
          "data": {
            "text/html": [
              "<div>\n",
              "<style scoped>\n",
              "    .dataframe tbody tr th:only-of-type {\n",
              "        vertical-align: middle;\n",
              "    }\n",
              "\n",
              "    .dataframe tbody tr th {\n",
              "        vertical-align: top;\n",
              "    }\n",
              "\n",
              "    .dataframe thead th {\n",
              "        text-align: right;\n",
              "    }\n",
              "</style>\n",
              "<table border=\"1\" class=\"dataframe\">\n",
              "  <thead>\n",
              "    <tr style=\"text-align: right;\">\n",
              "      <th></th>\n",
              "      <th>ImageId</th>\n",
              "      <th>Label</th>\n",
              "    </tr>\n",
              "  </thead>\n",
              "  <tbody>\n",
              "    <tr>\n",
              "      <th>0</th>\n",
              "      <td>1</td>\n",
              "      <td>2</td>\n",
              "    </tr>\n",
              "    <tr>\n",
              "      <th>1</th>\n",
              "      <td>2</td>\n",
              "      <td>0</td>\n",
              "    </tr>\n",
              "    <tr>\n",
              "      <th>2</th>\n",
              "      <td>3</td>\n",
              "      <td>9</td>\n",
              "    </tr>\n",
              "    <tr>\n",
              "      <th>3</th>\n",
              "      <td>4</td>\n",
              "      <td>9</td>\n",
              "    </tr>\n",
              "    <tr>\n",
              "      <th>4</th>\n",
              "      <td>5</td>\n",
              "      <td>3</td>\n",
              "    </tr>\n",
              "  </tbody>\n",
              "</table>\n",
              "</div>"
            ],
            "text/plain": [
              "   ImageId  Label\n",
              "0        1      2\n",
              "1        2      0\n",
              "2        3      9\n",
              "3        4      9\n",
              "4        5      3"
            ]
          },
          "metadata": {
            "tags": []
          },
          "execution_count": 39
        }
      ]
    },
    {
      "cell_type": "markdown",
      "metadata": {
        "id": "7hybUi7_0FXh",
        "colab_type": "text"
      },
      "source": [
        "Now that the predictions were put in the right format for submission, I can save the csv file and upload it using the Kaggle API:"
      ]
    },
    {
      "cell_type": "code",
      "metadata": {
        "id": "-zfkwFoYyr4-",
        "colab_type": "code",
        "colab": {}
      },
      "source": [
        "my_submission.to_csv('my_submission.csv', index=False)"
      ],
      "execution_count": 0,
      "outputs": []
    },
    {
      "cell_type": "code",
      "metadata": {
        "id": "CP71RCmf5XRC",
        "colab_type": "code",
        "outputId": "997c9d08-ca20-40dc-a978-f608cafba147",
        "colab": {
          "base_uri": "https://localhost:8080/",
          "height": 90
        }
      },
      "source": [
        "!kaggle competitions submit -c digit-recognizer -f my_submission.csv -m \"These are my predictions\""
      ],
      "execution_count": 0,
      "outputs": [
        {
          "output_type": "stream",
          "text": [
            "Warning: Looks like you're using an outdated API Version, please consider updating (server 1.5.6 / client 1.5.4)\n",
            "100% 208k/208k [00:09<00:00, 21.3kB/s]\n",
            "Successfully submitted to Digit Recognizer"
          ],
          "name": "stdout"
        }
      ]
    }
  ]
}